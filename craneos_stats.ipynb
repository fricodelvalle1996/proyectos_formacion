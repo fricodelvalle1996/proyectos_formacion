{
 "cells": [
  {
   "cell_type": "markdown",
   "id": "3e578d21",
   "metadata": {},
   "source": [
    "# MÓDULO 6. ESTADÍSTICA\n",
    "## Ejercicio de Evaluación. Descriptiva e Inferencia."
   ]
  },
  {
   "cell_type": "markdown",
   "id": "131112aa",
   "metadata": {},
   "source": [
    "<span style=\"color:red\">Ejercicio 1.  La siguiente tabla contiene, en un editable Excel, dos variables: la primera es dicotómica con valores 1 (predinástico temprano) y 2 (predinástico tardío) y la segunda contiene la anchura de cráneos (mm.) encontrados en un yacimiento arqueológico. La idea es analizar si existen diferencias en la longitud de la anchura de los cráneos egipcios a medida que pasa el tiempo. Creo que mayoritariamente tenemos una idea de que las cabezas egipcias son más alargadas y cuando ya llegamos a los romanos son más redondeadas. El cine se ha encargado de hacer muy gráfico todo esto</span>\n",
    "\n"
   ]
  },
  {
   "cell_type": "markdown",
   "id": "e8531c07",
   "metadata": {},
   "source": [
    "<span style=\"color:red\">a)\tobtener con Python las diferentes medidas de centralización y dispersión, asimetría y curtosis estudiadas. Así mismo, obtener el diagrama de caja y bigotes. Se debe hacer por separado para la sub-muestra de los cráneos del predinástico temprano y para la sub-muestra de los del predinástico tardío. Comentar los resultados obtenidos. Estos comentarios son obligatorios<span>"
   ]
  },
  {
   "cell_type": "code",
   "execution_count": 1,
   "id": "289dbe26",
   "metadata": {},
   "outputs": [],
   "source": [
    "import os\n",
    "import pandas  as pd\n",
    "from datetime import datetime\n",
    "import matplotlib.pyplot as plt\n",
    "import seaborn as sns\n",
    "import warnings\n",
    "import math as mt\n",
    "from scipy.stats import pearsonr\n",
    "\n",
    "sns.set_style('darkgrid')\n",
    "warnings.filterwarnings('ignore')"
   ]
  },
  {
   "cell_type": "code",
   "execution_count": 2,
   "id": "25b021a5",
   "metadata": {},
   "outputs": [],
   "source": [
    "df = pd.read_excel('datosejercicioevaluacionanchuras.xlsx')"
   ]
  },
  {
   "cell_type": "code",
   "execution_count": 3,
   "id": "86be5ae6",
   "metadata": {},
   "outputs": [],
   "source": [
    "# Muestra de PREDINÁSTICO TEMPRANO\n",
    "df_1 = df[df['Época histórica']==1]"
   ]
  },
  {
   "cell_type": "code",
   "execution_count": 4,
   "id": "0bb652d2",
   "metadata": {},
   "outputs": [],
   "source": [
    "#muestra de PREDINÁSTICO TARDÍO\n",
    "df_2 = df[df['Época histórica']==2]"
   ]
  },
  {
   "cell_type": "markdown",
   "id": "8ee36460",
   "metadata": {},
   "source": [
    "**MEDIDAS DE TENDENCIA CENTRAL - NO CENTRAL - DISPERSION - FORMA - PREDINASTICO TEMPRANO**"
   ]
  },
  {
   "cell_type": "code",
   "execution_count": 5,
   "id": "2d52e804",
   "metadata": {},
   "outputs": [],
   "source": [
    "valores_1 = pd.DataFrame(df_1['Anchura del cráneo'].describe())\n",
    "valores_1.reset_index(inplace=True)\n",
    "valores_1.rename(columns={'index':'Medida'},inplace = True)"
   ]
  },
  {
   "cell_type": "code",
   "execution_count": 6,
   "id": "8ef869ab",
   "metadata": {},
   "outputs": [
    {
     "data": {
      "text/html": [
       "<div>\n",
       "<style scoped>\n",
       "    .dataframe tbody tr th:only-of-type {\n",
       "        vertical-align: middle;\n",
       "    }\n",
       "\n",
       "    .dataframe tbody tr th {\n",
       "        vertical-align: top;\n",
       "    }\n",
       "\n",
       "    .dataframe thead th {\n",
       "        text-align: right;\n",
       "    }\n",
       "</style>\n",
       "<table border=\"1\" class=\"dataframe\">\n",
       "  <thead>\n",
       "    <tr style=\"text-align: right;\">\n",
       "      <th></th>\n",
       "      <th>Medida</th>\n",
       "      <th>Anchura del cráneo</th>\n",
       "    </tr>\n",
       "  </thead>\n",
       "  <tbody>\n",
       "    <tr>\n",
       "      <th>0</th>\n",
       "      <td>count</td>\n",
       "      <td>30.000000</td>\n",
       "    </tr>\n",
       "    <tr>\n",
       "      <th>1</th>\n",
       "      <td>mean</td>\n",
       "      <td>131.533333</td>\n",
       "    </tr>\n",
       "    <tr>\n",
       "      <th>2</th>\n",
       "      <td>std</td>\n",
       "      <td>0.819307</td>\n",
       "    </tr>\n",
       "    <tr>\n",
       "      <th>3</th>\n",
       "      <td>min</td>\n",
       "      <td>130.000000</td>\n",
       "    </tr>\n",
       "    <tr>\n",
       "      <th>4</th>\n",
       "      <td>25%</td>\n",
       "      <td>131.000000</td>\n",
       "    </tr>\n",
       "  </tbody>\n",
       "</table>\n",
       "</div>"
      ],
      "text/plain": [
       "  Medida  Anchura del cráneo\n",
       "0  count           30.000000\n",
       "1   mean          131.533333\n",
       "2    std            0.819307\n",
       "3    min          130.000000\n",
       "4    25%          131.000000"
      ]
     },
     "execution_count": 6,
     "metadata": {},
     "output_type": "execute_result"
    }
   ],
   "source": [
    "valores_1.head(5)\n",
    "# Algunas de las medidas de tendencia central (calcularemos las faltantes)"
   ]
  },
  {
   "cell_type": "code",
   "execution_count": 7,
   "id": "e382415b",
   "metadata": {},
   "outputs": [],
   "source": [
    "# Cálculo de la moda para grupo 1 (predinástico temprano)\n",
    "moda = df_1['Anchura del cráneo'].mode().iloc[0]"
   ]
  },
  {
   "cell_type": "code",
   "execution_count": 8,
   "id": "d89483ab",
   "metadata": {},
   "outputs": [],
   "source": [
    "# Cálculo del rango (valor maximo - valor mínimo)\n",
    "rango = df_1['Anchura del cráneo'].max() - df_1['Anchura del cráneo'].min()"
   ]
  },
  {
   "cell_type": "code",
   "execution_count": 9,
   "id": "6d437457",
   "metadata": {},
   "outputs": [],
   "source": [
    "# Cálculo de la varianza\n",
    "varianza = df_1['Anchura del cráneo'].var()"
   ]
  },
  {
   "cell_type": "code",
   "execution_count": 10,
   "id": "91cb08c3",
   "metadata": {},
   "outputs": [],
   "source": [
    "# Cálculo del coeficiente de variación de Pearson (DESVIACION STANDAR / MEDIA)\n",
    "coef_var_P = valores_1.loc[2][1]/valores_1.loc[1][1]"
   ]
  },
  {
   "cell_type": "code",
   "execution_count": 11,
   "id": "d3fec892",
   "metadata": {},
   "outputs": [],
   "source": [
    "df_1['Xi - Media'] = df_1['Anchura del cráneo'] - valores_1.loc[1][1]\n",
    "df_1['(Xi - Media)*3'] = df_1['Xi - Media']**3\n",
    "df_1['(Xi - Media)*4'] = df_1['Xi - Media']**4\n",
    "# Generación de columnas de apoyo para el cálculo de asimetría y curtosis"
   ]
  },
  {
   "cell_type": "code",
   "execution_count": 12,
   "id": "e28193ff",
   "metadata": {},
   "outputs": [
    {
     "data": {
      "text/html": [
       "<div>\n",
       "<style scoped>\n",
       "    .dataframe tbody tr th:only-of-type {\n",
       "        vertical-align: middle;\n",
       "    }\n",
       "\n",
       "    .dataframe tbody tr th {\n",
       "        vertical-align: top;\n",
       "    }\n",
       "\n",
       "    .dataframe thead th {\n",
       "        text-align: right;\n",
       "    }\n",
       "</style>\n",
       "<table border=\"1\" class=\"dataframe\">\n",
       "  <thead>\n",
       "    <tr style=\"text-align: right;\">\n",
       "      <th></th>\n",
       "      <th>Época histórica</th>\n",
       "      <th>Anchura del cráneo</th>\n",
       "      <th>Unnamed: 2</th>\n",
       "      <th>Unnamed: 3</th>\n",
       "      <th>Unnamed: 4</th>\n",
       "      <th>Xi - Media</th>\n",
       "      <th>(Xi - Media)*3</th>\n",
       "      <th>(Xi - Media)*4</th>\n",
       "    </tr>\n",
       "  </thead>\n",
       "  <tbody>\n",
       "    <tr>\n",
       "      <th>0</th>\n",
       "      <td>1</td>\n",
       "      <td>133</td>\n",
       "      <td>NaN</td>\n",
       "      <td>NaN</td>\n",
       "      <td>NaN</td>\n",
       "      <td>1.466667</td>\n",
       "      <td>3.154963</td>\n",
       "      <td>4.627279</td>\n",
       "    </tr>\n",
       "    <tr>\n",
       "      <th>1</th>\n",
       "      <td>1</td>\n",
       "      <td>131</td>\n",
       "      <td>NaN</td>\n",
       "      <td>NaN</td>\n",
       "      <td>NaN</td>\n",
       "      <td>-0.533333</td>\n",
       "      <td>-0.151704</td>\n",
       "      <td>0.080909</td>\n",
       "    </tr>\n",
       "    <tr>\n",
       "      <th>2</th>\n",
       "      <td>1</td>\n",
       "      <td>131</td>\n",
       "      <td>NaN</td>\n",
       "      <td>NaN</td>\n",
       "      <td>133.0</td>\n",
       "      <td>-0.533333</td>\n",
       "      <td>-0.151704</td>\n",
       "      <td>0.080909</td>\n",
       "    </tr>\n",
       "    <tr>\n",
       "      <th>3</th>\n",
       "      <td>1</td>\n",
       "      <td>132</td>\n",
       "      <td>NaN</td>\n",
       "      <td>NaN</td>\n",
       "      <td>NaN</td>\n",
       "      <td>0.466667</td>\n",
       "      <td>0.101630</td>\n",
       "      <td>0.047427</td>\n",
       "    </tr>\n",
       "    <tr>\n",
       "      <th>4</th>\n",
       "      <td>1</td>\n",
       "      <td>134</td>\n",
       "      <td>NaN</td>\n",
       "      <td>NaN</td>\n",
       "      <td>NaN</td>\n",
       "      <td>2.466667</td>\n",
       "      <td>15.008296</td>\n",
       "      <td>37.020464</td>\n",
       "    </tr>\n",
       "  </tbody>\n",
       "</table>\n",
       "</div>"
      ],
      "text/plain": [
       "   Época histórica  Anchura del cráneo  Unnamed: 2  Unnamed: 3  Unnamed: 4  \\\n",
       "0                1                 133         NaN         NaN         NaN   \n",
       "1                1                 131         NaN         NaN         NaN   \n",
       "2                1                 131         NaN         NaN       133.0   \n",
       "3                1                 132         NaN         NaN         NaN   \n",
       "4                1                 134         NaN         NaN         NaN   \n",
       "\n",
       "   Xi - Media  (Xi - Media)*3  (Xi - Media)*4  \n",
       "0    1.466667        3.154963        4.627279  \n",
       "1   -0.533333       -0.151704        0.080909  \n",
       "2   -0.533333       -0.151704        0.080909  \n",
       "3    0.466667        0.101630        0.047427  \n",
       "4    2.466667       15.008296       37.020464  "
      ]
     },
     "execution_count": 12,
     "metadata": {},
     "output_type": "execute_result"
    }
   ],
   "source": [
    "df_1.head(5)\n",
    "# Tabla de los cráneos del periodo temprano (con columnas de apoyo para el cálculo de la forma de la distribución)"
   ]
  },
  {
   "cell_type": "code",
   "execution_count": 13,
   "id": "ef723b7e",
   "metadata": {},
   "outputs": [
    {
     "data": {
      "text/plain": [
       "0.6459405126888941"
      ]
     },
     "execution_count": 13,
     "metadata": {},
     "output_type": "execute_result"
    }
   ],
   "source": [
    "Coef_Fisher=df_1['(Xi - Media)*3'].sum()/((df_1['Época histórica'].count()-1)*mt.pow(valores_1.loc[2][1],3))\n",
    "Coef_Fisher"
   ]
  },
  {
   "cell_type": "markdown",
   "id": "99cadf4b",
   "metadata": {},
   "source": [
    "<span style=\"color:blue\">Al obtener un **coeficiente de Fisher positivo**, podemos afirmar que existe una mayor concentración de valores a la derecha del eje de simetría"
   ]
  },
  {
   "cell_type": "code",
   "execution_count": 14,
   "id": "2d0ceb58",
   "metadata": {},
   "outputs": [
    {
     "data": {
      "text/plain": [
       "1.1608932257459212"
      ]
     },
     "execution_count": 14,
     "metadata": {},
     "output_type": "execute_result"
    }
   ],
   "source": [
    "coeficiente_Curtosis = df_1['(Xi - Media)*4'].sum()/((df_1['Época histórica'].count()-1)*mt.pow(valores_1.loc[2][1],4)) -3\n",
    "coeficiente_Curtosis"
   ]
  },
  {
   "cell_type": "markdown",
   "id": "dd1bf561",
   "metadata": {},
   "source": [
    "<span style=\"color:blue\">El coeficiente de curtosis es mayor que 0, por lo que podemos anticipar una **distribución leptocúritca**, es decir, \n",
    "la distribución presenta un elevado grado de concentración alrededor de los valores centrales de la variable"
   ]
  },
  {
   "cell_type": "code",
   "execution_count": 15,
   "id": "86c9de48",
   "metadata": {},
   "outputs": [
    {
     "data": {
      "image/png": "[encoded data removed]",
      "text/plain": [
       "<Figure size 640x480 with 1 Axes>"
      ]
     },
     "metadata": {},
     "output_type": "display_data"
    }
   ],
   "source": [
    "sns.histplot(data=df_1['Anchura del cráneo'] )\n",
    "plt.axvline(x=valores_1.loc[5][1], color='red', linestyle='--')\n",
    "plt.title('Histograma - PERIODO TEMPRANO')\n",
    "plt.show()"
   ]
  },
  {
   "cell_type": "markdown",
   "id": "83039032",
   "metadata": {},
   "source": [
    "<span style=\"color:blue\">Se ha colocado el histograma y una línea roja constante en la mediana para observar el comportmiento-forma de la distribución.\n",
    "Evidentenmemente visualizamos mayor concentración por encima de la mediana (131.5) y una concentración de valroes alrededor de ésta.<span>\n",
    "\n",
    "    \n",
    "<span style=\"color:blue\">--> A raíz de los coeficientes de FISHER Y CURTOSIS obtenidos podemos determinar que:\n",
    "    \n",
    "<span style=\"color:blue\">La distribución posee mayor concentración de valores a la derecha de la mediana, ya que el coeficinete de Fisher (0.64594) es superior a 0 y se trata de una distribucion leptocúritca con valores muy concnetrados alrededor de la mediana (principalmente en los valores 131.0 y 132), ya que el coeficiente de curtosis (1.16089) es mayor que 0.<span>"
   ]
  },
  {
   "cell_type": "code",
   "execution_count": 16,
   "id": "d9a8112c",
   "metadata": {},
   "outputs": [
    {
     "data": {
      "text/html": [
       "<div>\n",
       "<style scoped>\n",
       "    .dataframe tbody tr th:only-of-type {\n",
       "        vertical-align: middle;\n",
       "    }\n",
       "\n",
       "    .dataframe tbody tr th {\n",
       "        vertical-align: top;\n",
       "    }\n",
       "\n",
       "    .dataframe thead th {\n",
       "        text-align: right;\n",
       "    }\n",
       "</style>\n",
       "<table border=\"1\" class=\"dataframe\">\n",
       "  <thead>\n",
       "    <tr style=\"text-align: right;\">\n",
       "      <th></th>\n",
       "      <th>Medida</th>\n",
       "      <th>Anchura del cráneo</th>\n",
       "    </tr>\n",
       "  </thead>\n",
       "  <tbody>\n",
       "    <tr>\n",
       "      <th>0</th>\n",
       "      <td>moda</td>\n",
       "      <td>131.000000</td>\n",
       "    </tr>\n",
       "    <tr>\n",
       "      <th>1</th>\n",
       "      <td>rango</td>\n",
       "      <td>4.000000</td>\n",
       "    </tr>\n",
       "    <tr>\n",
       "      <th>2</th>\n",
       "      <td>varianza</td>\n",
       "      <td>0.671264</td>\n",
       "    </tr>\n",
       "    <tr>\n",
       "      <th>3</th>\n",
       "      <td>CoeficientePerson</td>\n",
       "      <td>0.006229</td>\n",
       "    </tr>\n",
       "    <tr>\n",
       "      <th>4</th>\n",
       "      <td>CoeficienteFisher</td>\n",
       "      <td>0.645941</td>\n",
       "    </tr>\n",
       "    <tr>\n",
       "      <th>5</th>\n",
       "      <td>CoeficienteCurtosis</td>\n",
       "      <td>1.160893</td>\n",
       "    </tr>\n",
       "  </tbody>\n",
       "</table>\n",
       "</div>"
      ],
      "text/plain": [
       "                Medida  Anchura del cráneo\n",
       "0                 moda          131.000000\n",
       "1                rango            4.000000\n",
       "2             varianza            0.671264\n",
       "3    CoeficientePerson            0.006229\n",
       "4    CoeficienteFisher            0.645941\n",
       "5  CoeficienteCurtosis            1.160893"
      ]
     },
     "execution_count": 16,
     "metadata": {},
     "output_type": "execute_result"
    }
   ],
   "source": [
    "Medida = ['moda','rango','varianza','CoeficientePerson','CoeficienteFisher','CoeficienteCurtosis']\n",
    "Anchura_del_Craneo = [moda,rango, varianza,coef_var_P,Coef_Fisher,coeficiente_Curtosis]\n",
    "\n",
    "medidas_2 = pd.DataFrame({'Medida':Medida,'Anchura del cráneo':Anchura_del_Craneo})\n",
    "medidas_2"
   ]
  },
  {
   "cell_type": "markdown",
   "id": "696ff78e",
   "metadata": {},
   "source": [
    "**MEDIDAS PERIODO TEMPRANO**"
   ]
  },
  {
   "cell_type": "code",
   "execution_count": 17,
   "id": "899a092a",
   "metadata": {},
   "outputs": [
    {
     "data": {
      "text/html": [
       "<div>\n",
       "<style scoped>\n",
       "    .dataframe tbody tr th:only-of-type {\n",
       "        vertical-align: middle;\n",
       "    }\n",
       "\n",
       "    .dataframe tbody tr th {\n",
       "        vertical-align: top;\n",
       "    }\n",
       "\n",
       "    .dataframe thead th {\n",
       "        text-align: right;\n",
       "    }\n",
       "</style>\n",
       "<table border=\"1\" class=\"dataframe\">\n",
       "  <thead>\n",
       "    <tr style=\"text-align: right;\">\n",
       "      <th></th>\n",
       "      <th>Medida</th>\n",
       "      <th>Anchura del cráneo</th>\n",
       "    </tr>\n",
       "  </thead>\n",
       "  <tbody>\n",
       "    <tr>\n",
       "      <th>0</th>\n",
       "      <td>count</td>\n",
       "      <td>30.000000</td>\n",
       "    </tr>\n",
       "    <tr>\n",
       "      <th>1</th>\n",
       "      <td>mean</td>\n",
       "      <td>131.533333</td>\n",
       "    </tr>\n",
       "    <tr>\n",
       "      <th>2</th>\n",
       "      <td>std</td>\n",
       "      <td>0.819307</td>\n",
       "    </tr>\n",
       "    <tr>\n",
       "      <th>3</th>\n",
       "      <td>min</td>\n",
       "      <td>130.000000</td>\n",
       "    </tr>\n",
       "    <tr>\n",
       "      <th>4</th>\n",
       "      <td>25%</td>\n",
       "      <td>131.000000</td>\n",
       "    </tr>\n",
       "    <tr>\n",
       "      <th>5</th>\n",
       "      <td>50%</td>\n",
       "      <td>131.500000</td>\n",
       "    </tr>\n",
       "    <tr>\n",
       "      <th>6</th>\n",
       "      <td>75%</td>\n",
       "      <td>132.000000</td>\n",
       "    </tr>\n",
       "    <tr>\n",
       "      <th>7</th>\n",
       "      <td>max</td>\n",
       "      <td>134.000000</td>\n",
       "    </tr>\n",
       "    <tr>\n",
       "      <th>8</th>\n",
       "      <td>moda</td>\n",
       "      <td>131.000000</td>\n",
       "    </tr>\n",
       "    <tr>\n",
       "      <th>9</th>\n",
       "      <td>rango</td>\n",
       "      <td>4.000000</td>\n",
       "    </tr>\n",
       "    <tr>\n",
       "      <th>10</th>\n",
       "      <td>varianza</td>\n",
       "      <td>0.671264</td>\n",
       "    </tr>\n",
       "    <tr>\n",
       "      <th>11</th>\n",
       "      <td>CoeficientePerson</td>\n",
       "      <td>0.006229</td>\n",
       "    </tr>\n",
       "    <tr>\n",
       "      <th>12</th>\n",
       "      <td>CoeficienteFisher</td>\n",
       "      <td>0.645941</td>\n",
       "    </tr>\n",
       "    <tr>\n",
       "      <th>13</th>\n",
       "      <td>CoeficienteCurtosis</td>\n",
       "      <td>1.160893</td>\n",
       "    </tr>\n",
       "  </tbody>\n",
       "</table>\n",
       "</div>"
      ],
      "text/plain": [
       "                 Medida  Anchura del cráneo\n",
       "0                 count           30.000000\n",
       "1                  mean          131.533333\n",
       "2                   std            0.819307\n",
       "3                   min          130.000000\n",
       "4                   25%          131.000000\n",
       "5                   50%          131.500000\n",
       "6                   75%          132.000000\n",
       "7                   max          134.000000\n",
       "8                  moda          131.000000\n",
       "9                 rango            4.000000\n",
       "10             varianza            0.671264\n",
       "11    CoeficientePerson            0.006229\n",
       "12    CoeficienteFisher            0.645941\n",
       "13  CoeficienteCurtosis            1.160893"
      ]
     },
     "execution_count": 17,
     "metadata": {},
     "output_type": "execute_result"
    }
   ],
   "source": [
    "# Se unen los dos dataframes con las medidas correspondientes para mostrarlos en uno solo\n",
    "valores_w = pd.concat([valores_1,medidas_2],ignore_index=True)\n",
    "valores_w\n",
    "\n",
    "# Con  esto la siguiente tabla muestra la totalidad de elementos correspondintes a medidas de \n",
    "#tendencia central, no central, forma y variabiliad "
   ]
  },
  {
   "cell_type": "code",
   "execution_count": 18,
   "id": "9fcf1651",
   "metadata": {},
   "outputs": [
    {
     "data": {
      "image/png": "[encoded data removed]",
      "text/plain": [
       "<Figure size 500x500 with 1 Axes>"
      ]
     },
     "metadata": {},
     "output_type": "display_data"
    }
   ],
   "source": [
    "sns.catplot(data = df_1 ,  y='Anchura del cráneo' , col ='Época histórica' , kind = 'box', color='skyblue',medianprops={'color':'red'} )\n",
    "plt.show()"
   ]
  },
  {
   "cell_type": "markdown",
   "id": "a8d7e812",
   "metadata": {},
   "source": [
    "<span style=\"color:blue\">Como vemos en el diagrama de caja para el periodo temprano, no se presentan datos atipicos. Se pueden observar los valores máximo (133) y mínimo (130), los cuartiles (131 y 132) y la mediana (131.5), que está en total armonía con los cuartiles. También cabe destacar el valor 134, muy alejado de la media.<span>"
   ]
  },
  {
   "cell_type": "markdown",
   "id": "d72d3a2c",
   "metadata": {},
   "source": [
    "**MEDIDAS DE TENDENCIA CENTRAL - NO CENTRAL - DISPERSION - FORMA - PREDINASTICO TARDIO**\n",
    "\n",
    "\n"
   ]
  },
  {
   "cell_type": "code",
   "execution_count": 19,
   "id": "e91729e1",
   "metadata": {},
   "outputs": [],
   "source": [
    "# Obtención de algunos de las medidas de tendencia central y no central. Calcularemos el resto a continuación\n",
    "valores_2 = pd.DataFrame(df_2['Anchura del cráneo'].describe())\n",
    "valores_2.reset_index(inplace=True)\n",
    "valores_2.rename(columns={'index':'Medida'},inplace = True)"
   ]
  },
  {
   "cell_type": "code",
   "execution_count": 20,
   "id": "68fb4529",
   "metadata": {},
   "outputs": [
    {
     "data": {
      "text/html": [
       "<div>\n",
       "<style scoped>\n",
       "    .dataframe tbody tr th:only-of-type {\n",
       "        vertical-align: middle;\n",
       "    }\n",
       "\n",
       "    .dataframe tbody tr th {\n",
       "        vertical-align: top;\n",
       "    }\n",
       "\n",
       "    .dataframe thead th {\n",
       "        text-align: right;\n",
       "    }\n",
       "</style>\n",
       "<table border=\"1\" class=\"dataframe\">\n",
       "  <thead>\n",
       "    <tr style=\"text-align: right;\">\n",
       "      <th></th>\n",
       "      <th>Medida</th>\n",
       "      <th>Anchura del cráneo</th>\n",
       "    </tr>\n",
       "  </thead>\n",
       "  <tbody>\n",
       "    <tr>\n",
       "      <th>0</th>\n",
       "      <td>count</td>\n",
       "      <td>30.000000</td>\n",
       "    </tr>\n",
       "    <tr>\n",
       "      <th>1</th>\n",
       "      <td>mean</td>\n",
       "      <td>132.466667</td>\n",
       "    </tr>\n",
       "    <tr>\n",
       "      <th>2</th>\n",
       "      <td>std</td>\n",
       "      <td>1.008014</td>\n",
       "    </tr>\n",
       "    <tr>\n",
       "      <th>3</th>\n",
       "      <td>min</td>\n",
       "      <td>131.000000</td>\n",
       "    </tr>\n",
       "    <tr>\n",
       "      <th>4</th>\n",
       "      <td>25%</td>\n",
       "      <td>132.000000</td>\n",
       "    </tr>\n",
       "  </tbody>\n",
       "</table>\n",
       "</div>"
      ],
      "text/plain": [
       "  Medida  Anchura del cráneo\n",
       "0  count           30.000000\n",
       "1   mean          132.466667\n",
       "2    std            1.008014\n",
       "3    min          131.000000\n",
       "4    25%          132.000000"
      ]
     },
     "execution_count": 20,
     "metadata": {},
     "output_type": "execute_result"
    }
   ],
   "source": [
    "valores_2.head(5)"
   ]
  },
  {
   "cell_type": "code",
   "execution_count": 21,
   "id": "8c2a9d26",
   "metadata": {},
   "outputs": [],
   "source": [
    "# Cálculo de la moda para grupo 2 (predinástico tardío)\n",
    "moda_2  = int(df_2['Anchura del cráneo'].mode())"
   ]
  },
  {
   "cell_type": "code",
   "execution_count": 22,
   "id": "af433f94",
   "metadata": {},
   "outputs": [],
   "source": [
    "# Cálculo del rango (valor máximo - valor mínimo)\n",
    "rango_2 = df_2['Anchura del cráneo'].max() - df_2['Anchura del cráneo'].min()"
   ]
  },
  {
   "cell_type": "code",
   "execution_count": 23,
   "id": "622fa1f7",
   "metadata": {},
   "outputs": [],
   "source": [
    "# Cálculo de la varianza\n",
    "varianza_2 = df_2['Anchura del cráneo'].var()"
   ]
  },
  {
   "cell_type": "code",
   "execution_count": 24,
   "id": "91e9a19d",
   "metadata": {},
   "outputs": [],
   "source": [
    "# Cálculo del coeficiente de variacion de Pearson (DESVIACION STANDAR / MEDIA)\n",
    "coef_var_P_2 = valores_2.loc[2][1]/valores_2.loc[1][1]"
   ]
  },
  {
   "cell_type": "code",
   "execution_count": 25,
   "id": "bbcbf721",
   "metadata": {},
   "outputs": [],
   "source": [
    "df_2['Xi - Media'] = df_2['Anchura del cráneo'] - valores_2.loc[1][1]\n",
    "df_2['(Xi - Media)*3'] = df_2['Xi - Media']**3\n",
    "df_2['(Xi - Media)*4'] = df_2['Xi - Media']**4\n",
    "# Generación de columnas de apoyo para el cálculo de asimetría y curtosis"
   ]
  },
  {
   "cell_type": "code",
   "execution_count": 26,
   "id": "83d42ab5",
   "metadata": {},
   "outputs": [
    {
     "data": {
      "text/html": [
       "<div>\n",
       "<style scoped>\n",
       "    .dataframe tbody tr th:only-of-type {\n",
       "        vertical-align: middle;\n",
       "    }\n",
       "\n",
       "    .dataframe tbody tr th {\n",
       "        vertical-align: top;\n",
       "    }\n",
       "\n",
       "    .dataframe thead th {\n",
       "        text-align: right;\n",
       "    }\n",
       "</style>\n",
       "<table border=\"1\" class=\"dataframe\">\n",
       "  <thead>\n",
       "    <tr style=\"text-align: right;\">\n",
       "      <th></th>\n",
       "      <th>Época histórica</th>\n",
       "      <th>Anchura del cráneo</th>\n",
       "      <th>Unnamed: 2</th>\n",
       "      <th>Unnamed: 3</th>\n",
       "      <th>Unnamed: 4</th>\n",
       "      <th>Xi - Media</th>\n",
       "      <th>(Xi - Media)*3</th>\n",
       "      <th>(Xi - Media)*4</th>\n",
       "    </tr>\n",
       "  </thead>\n",
       "  <tbody>\n",
       "    <tr>\n",
       "      <th>30</th>\n",
       "      <td>2</td>\n",
       "      <td>132</td>\n",
       "      <td>NaN</td>\n",
       "      <td>NaN</td>\n",
       "      <td>NaN</td>\n",
       "      <td>-0.466667</td>\n",
       "      <td>-0.101630</td>\n",
       "      <td>0.047427</td>\n",
       "    </tr>\n",
       "    <tr>\n",
       "      <th>31</th>\n",
       "      <td>2</td>\n",
       "      <td>133</td>\n",
       "      <td>NaN</td>\n",
       "      <td>NaN</td>\n",
       "      <td>NaN</td>\n",
       "      <td>0.533333</td>\n",
       "      <td>0.151704</td>\n",
       "      <td>0.080909</td>\n",
       "    </tr>\n",
       "    <tr>\n",
       "      <th>32</th>\n",
       "      <td>2</td>\n",
       "      <td>131</td>\n",
       "      <td>NaN</td>\n",
       "      <td>NaN</td>\n",
       "      <td>NaN</td>\n",
       "      <td>-1.466667</td>\n",
       "      <td>-3.154963</td>\n",
       "      <td>4.627279</td>\n",
       "    </tr>\n",
       "    <tr>\n",
       "      <th>33</th>\n",
       "      <td>2</td>\n",
       "      <td>133</td>\n",
       "      <td>NaN</td>\n",
       "      <td>NaN</td>\n",
       "      <td>NaN</td>\n",
       "      <td>0.533333</td>\n",
       "      <td>0.151704</td>\n",
       "      <td>0.080909</td>\n",
       "    </tr>\n",
       "    <tr>\n",
       "      <th>34</th>\n",
       "      <td>2</td>\n",
       "      <td>133</td>\n",
       "      <td>NaN</td>\n",
       "      <td>NaN</td>\n",
       "      <td>NaN</td>\n",
       "      <td>0.533333</td>\n",
       "      <td>0.151704</td>\n",
       "      <td>0.080909</td>\n",
       "    </tr>\n",
       "  </tbody>\n",
       "</table>\n",
       "</div>"
      ],
      "text/plain": [
       "    Época histórica  Anchura del cráneo  Unnamed: 2  Unnamed: 3  Unnamed: 4  \\\n",
       "30                2                 132         NaN         NaN         NaN   \n",
       "31                2                 133         NaN         NaN         NaN   \n",
       "32                2                 131         NaN         NaN         NaN   \n",
       "33                2                 133         NaN         NaN         NaN   \n",
       "34                2                 133         NaN         NaN         NaN   \n",
       "\n",
       "    Xi - Media  (Xi - Media)*3  (Xi - Media)*4  \n",
       "30   -0.466667       -0.101630        0.047427  \n",
       "31    0.533333        0.151704        0.080909  \n",
       "32   -1.466667       -3.154963        4.627279  \n",
       "33    0.533333        0.151704        0.080909  \n",
       "34    0.533333        0.151704        0.080909  "
      ]
     },
     "execution_count": 26,
     "metadata": {},
     "output_type": "execute_result"
    }
   ],
   "source": [
    "df_2.head(5)"
   ]
  },
  {
   "cell_type": "code",
   "execution_count": 27,
   "id": "01cfd232",
   "metadata": {},
   "outputs": [
    {
     "data": {
      "text/plain": [
       "0.1918262295493577"
      ]
     },
     "execution_count": 27,
     "metadata": {},
     "output_type": "execute_result"
    }
   ],
   "source": [
    "Coef_Fisher_2=df_2['(Xi - Media)*3'].sum()/((df_2['Época histórica'].count()-1)*mt.pow(valores_2.loc[2][1],3))\n",
    "Coef_Fisher_2"
   ]
  },
  {
   "cell_type": "markdown",
   "id": "d99d0428",
   "metadata": {},
   "source": [
    "<span style=\"color:blue\">Al obtener un **coeficiente de Fisher positivo**, se puede afirmar que existe una mayor concentración de valores a la derecha del eje de simetría<span>"
   ]
  },
  {
   "cell_type": "code",
   "execution_count": 28,
   "id": "a2e1a00a",
   "metadata": {},
   "outputs": [
    {
     "data": {
      "text/plain": [
       "-0.2800290739337874"
      ]
     },
     "execution_count": 28,
     "metadata": {},
     "output_type": "execute_result"
    }
   ],
   "source": [
    "coeficiente_Curtosis_2 = df_2['(Xi - Media)*4'].sum()/((df_2['Época histórica'].count()-1)*mt.pow(valores_2.loc[2][1],4)) -3\n",
    "coeficiente_Curtosis_2"
   ]
  },
  {
   "cell_type": "markdown",
   "id": "b893a64d",
   "metadata": {},
   "source": [
    "<span style=\"color:blue\">El coeficiente de curtosis es menor que 0 por lo que podemos anticipar una **distribución platicúrtica**<span>"
   ]
  },
  {
   "cell_type": "code",
   "execution_count": 29,
   "id": "d0c9b6bb",
   "metadata": {},
   "outputs": [
    {
     "data": {
      "image/png": "[encoded data removed]",
      "text/plain": [
       "<Figure size 640x480 with 1 Axes>"
      ]
     },
     "metadata": {},
     "output_type": "display_data"
    }
   ],
   "source": [
    "sns.histplot(data=df_2['Anchura del cráneo'] )\n",
    "plt.axvline(x=valores_2.loc[5][1], color='red', linestyle='--')\n",
    "plt.title('Histograma - Periodo Tardio')\n",
    "plt.show()"
   ]
  },
  {
   "cell_type": "markdown",
   "id": "d7d61a01",
   "metadata": {},
   "source": [
    "<span style=\"color:blue\">Se ha colocado el histograma y una línea roja constante en la mediana para observar el comportmiento-forma de la distribución.\n",
    "La mediana coincide con la moda que es de 133. Además, al comparar las otras frecuencias, encontramos una mayor cantidad de valores a la izquierda indicando una asimetría negativa<span>\n",
    "\n",
    "    \n",
    "<span style=\"color:blue\">--> A raíz de los coeficientes de FISHER Y CURTOSIS obtenidos podemos determinar que:\n",
    "    \n",
    "<span style=\"color:blue\">La distribucion debería poseer mayor concentracion de valores a la derecha de la mediana (133), aunque en este caso no se cumple  (ya que el coeficinete de Fisher (0.19182) es superior a 0) y se trata de una distribución platicúrtica con valores menos concentrados en la media a comparación de la distribución normal y más distribuidos en las colas, ya que el coeficiente de curtosis (-0.28002) es menor que 0.<span>"
   ]
  },
  {
   "cell_type": "code",
   "execution_count": 30,
   "id": "fc7fd1a8",
   "metadata": {},
   "outputs": [
    {
     "data": {
      "text/html": [
       "<div>\n",
       "<style scoped>\n",
       "    .dataframe tbody tr th:only-of-type {\n",
       "        vertical-align: middle;\n",
       "    }\n",
       "\n",
       "    .dataframe tbody tr th {\n",
       "        vertical-align: top;\n",
       "    }\n",
       "\n",
       "    .dataframe thead th {\n",
       "        text-align: right;\n",
       "    }\n",
       "</style>\n",
       "<table border=\"1\" class=\"dataframe\">\n",
       "  <thead>\n",
       "    <tr style=\"text-align: right;\">\n",
       "      <th></th>\n",
       "      <th>Medida</th>\n",
       "      <th>Anchura del cráneo</th>\n",
       "    </tr>\n",
       "  </thead>\n",
       "  <tbody>\n",
       "    <tr>\n",
       "      <th>0</th>\n",
       "      <td>moda</td>\n",
       "      <td>133.000000</td>\n",
       "    </tr>\n",
       "    <tr>\n",
       "      <th>1</th>\n",
       "      <td>rango</td>\n",
       "      <td>4.000000</td>\n",
       "    </tr>\n",
       "    <tr>\n",
       "      <th>2</th>\n",
       "      <td>varianza</td>\n",
       "      <td>1.016092</td>\n",
       "    </tr>\n",
       "    <tr>\n",
       "      <th>3</th>\n",
       "      <td>CoeficientePerson</td>\n",
       "      <td>0.007610</td>\n",
       "    </tr>\n",
       "    <tr>\n",
       "      <th>4</th>\n",
       "      <td>CoeficienteFisher</td>\n",
       "      <td>0.191826</td>\n",
       "    </tr>\n",
       "    <tr>\n",
       "      <th>5</th>\n",
       "      <td>CoeficienteCurtosis</td>\n",
       "      <td>-0.280029</td>\n",
       "    </tr>\n",
       "  </tbody>\n",
       "</table>\n",
       "</div>"
      ],
      "text/plain": [
       "                Medida  Anchura del cráneo\n",
       "0                 moda          133.000000\n",
       "1                rango            4.000000\n",
       "2             varianza            1.016092\n",
       "3    CoeficientePerson            0.007610\n",
       "4    CoeficienteFisher            0.191826\n",
       "5  CoeficienteCurtosis           -0.280029"
      ]
     },
     "execution_count": 30,
     "metadata": {},
     "output_type": "execute_result"
    }
   ],
   "source": [
    "Medida_2 = ['moda','rango','varianza','CoeficientePerson','CoeficienteFisher','CoeficienteCurtosis']\n",
    "Anchura_del_Craneo_2 = [moda_2,rango_2, varianza_2,coef_var_P_2,Coef_Fisher_2,coeficiente_Curtosis_2]\n",
    "\n",
    "medidas_2_2 = pd.DataFrame({'Medida':Medida_2,'Anchura del cráneo':Anchura_del_Craneo_2})\n",
    "medidas_2_2"
   ]
  },
  {
   "cell_type": "markdown",
   "id": "676e0b21",
   "metadata": {},
   "source": [
    "**MEDIDAS PERIODO TRARDÍO**"
   ]
  },
  {
   "cell_type": "code",
   "execution_count": 31,
   "id": "2ec7707e",
   "metadata": {},
   "outputs": [
    {
     "data": {
      "text/html": [
       "<div>\n",
       "<style scoped>\n",
       "    .dataframe tbody tr th:only-of-type {\n",
       "        vertical-align: middle;\n",
       "    }\n",
       "\n",
       "    .dataframe tbody tr th {\n",
       "        vertical-align: top;\n",
       "    }\n",
       "\n",
       "    .dataframe thead th {\n",
       "        text-align: right;\n",
       "    }\n",
       "</style>\n",
       "<table border=\"1\" class=\"dataframe\">\n",
       "  <thead>\n",
       "    <tr style=\"text-align: right;\">\n",
       "      <th></th>\n",
       "      <th>Medida</th>\n",
       "      <th>Anchura del cráneo</th>\n",
       "    </tr>\n",
       "  </thead>\n",
       "  <tbody>\n",
       "    <tr>\n",
       "      <th>0</th>\n",
       "      <td>count</td>\n",
       "      <td>30.000000</td>\n",
       "    </tr>\n",
       "    <tr>\n",
       "      <th>1</th>\n",
       "      <td>mean</td>\n",
       "      <td>132.466667</td>\n",
       "    </tr>\n",
       "    <tr>\n",
       "      <th>2</th>\n",
       "      <td>std</td>\n",
       "      <td>1.008014</td>\n",
       "    </tr>\n",
       "    <tr>\n",
       "      <th>3</th>\n",
       "      <td>min</td>\n",
       "      <td>131.000000</td>\n",
       "    </tr>\n",
       "    <tr>\n",
       "      <th>4</th>\n",
       "      <td>25%</td>\n",
       "      <td>132.000000</td>\n",
       "    </tr>\n",
       "    <tr>\n",
       "      <th>5</th>\n",
       "      <td>50%</td>\n",
       "      <td>133.000000</td>\n",
       "    </tr>\n",
       "    <tr>\n",
       "      <th>6</th>\n",
       "      <td>75%</td>\n",
       "      <td>133.000000</td>\n",
       "    </tr>\n",
       "    <tr>\n",
       "      <th>7</th>\n",
       "      <td>max</td>\n",
       "      <td>135.000000</td>\n",
       "    </tr>\n",
       "    <tr>\n",
       "      <th>8</th>\n",
       "      <td>moda</td>\n",
       "      <td>133.000000</td>\n",
       "    </tr>\n",
       "    <tr>\n",
       "      <th>9</th>\n",
       "      <td>rango</td>\n",
       "      <td>4.000000</td>\n",
       "    </tr>\n",
       "    <tr>\n",
       "      <th>10</th>\n",
       "      <td>varianza</td>\n",
       "      <td>1.016092</td>\n",
       "    </tr>\n",
       "    <tr>\n",
       "      <th>11</th>\n",
       "      <td>CoeficientePerson</td>\n",
       "      <td>0.007610</td>\n",
       "    </tr>\n",
       "    <tr>\n",
       "      <th>12</th>\n",
       "      <td>CoeficienteFisher</td>\n",
       "      <td>0.191826</td>\n",
       "    </tr>\n",
       "    <tr>\n",
       "      <th>13</th>\n",
       "      <td>CoeficienteCurtosis</td>\n",
       "      <td>-0.280029</td>\n",
       "    </tr>\n",
       "  </tbody>\n",
       "</table>\n",
       "</div>"
      ],
      "text/plain": [
       "                 Medida  Anchura del cráneo\n",
       "0                 count           30.000000\n",
       "1                  mean          132.466667\n",
       "2                   std            1.008014\n",
       "3                   min          131.000000\n",
       "4                   25%          132.000000\n",
       "5                   50%          133.000000\n",
       "6                   75%          133.000000\n",
       "7                   max          135.000000\n",
       "8                  moda          133.000000\n",
       "9                 rango            4.000000\n",
       "10             varianza            1.016092\n",
       "11    CoeficientePerson            0.007610\n",
       "12    CoeficienteFisher            0.191826\n",
       "13  CoeficienteCurtosis           -0.280029"
      ]
     },
     "execution_count": 31,
     "metadata": {},
     "output_type": "execute_result"
    }
   ],
   "source": [
    "# Se unen los dos dataframes con las medidas correspondientes para mostrarlos en uno solo\n",
    "valores_w_2 = pd.concat([valores_2,medidas_2_2],ignore_index=True)\n",
    "valores_w_2\n",
    "\n",
    "# Con  esto la siguiente tabla muestra la totalidad de elementos correspondintes a medidas de \n",
    "#tendencia central, no central, forma y variabiliad "
   ]
  },
  {
   "cell_type": "code",
   "execution_count": 32,
   "id": "2bd99d1a",
   "metadata": {},
   "outputs": [
    {
     "data": {
      "image/png": "[encoded data removed]",
      "text/plain": [
       "<Figure size 500x500 with 1 Axes>"
      ]
     },
     "metadata": {},
     "output_type": "display_data"
    }
   ],
   "source": [
    "sns.catplot(data = df_2 ,  y='Anchura del cráneo' , col ='Época histórica' , kind = 'box', color='skyblue',medianprops={'color':'red'} )\n",
    "plt.show()"
   ]
  },
  {
   "cell_type": "markdown",
   "id": "99340bdc",
   "metadata": {},
   "source": [
    "<span style=\"color:blue\">Se evidencia un valor atipíco en la muestra: el 135. Aademás, la mediana coincide con el cuartil 75% y con la moda, por lo que podemos afirmar que  hay una gran presencia del valor 133, y que los cuartiles 2 y 3 son muy desiguales. Al menos el 25% de las muestras tienen el valor de la mediana (133).<span>"
   ]
  },
  {
   "cell_type": "markdown",
   "id": "1bb7607c",
   "metadata": {},
   "source": [
    "**COMPARATIVA DE LOS DIAGRAMAS DE CAJA PARA AMBOS PERIODOS**"
   ]
  },
  {
   "cell_type": "code",
   "execution_count": 33,
   "id": "5d19876b",
   "metadata": {},
   "outputs": [
    {
     "data": {
      "image/png": "[encoded data removed]",
      "text/plain": [
       "<Figure size 1000x500 with 2 Axes>"
      ]
     },
     "metadata": {},
     "output_type": "display_data"
    }
   ],
   "source": [
    "sns.catplot(data = df ,  y='Anchura del cráneo' , col ='Época histórica' , kind = 'box', color='skyblue',medianprops={'color':'red'} )\n",
    "plt.show()"
   ]
  },
  {
   "cell_type": "markdown",
   "id": "fe28c1b3",
   "metadata": {},
   "source": [
    "<font color=\"blue\">\n",
    "En vista de los resultados se puede afirmar que:\n",
    "\n",
    "- La distribución 1 es **más simétrica** que la distribución 2\n",
    "- Ambas distribuciones presentan **valores superiores atípicos**, aunque la distribución 2 (periodo tardío) es más asimétrica\n",
    "- En términos generales, la distribución 2 se compone de valores superiores, ya que se encuentra **desplazada hacia arriba**\n",
    "\n",
    "</font>\n"
   ]
  },
  {
   "cell_type": "markdown",
   "id": "6d14d83f",
   "metadata": {},
   "source": [
    "<span style=\"color:red\">b) Determinar si cada una de las dos sub-muestras sigue una distribución normal utilizando el test de Kolmogorov-Smirnov.<span>"
   ]
  },
  {
   "cell_type": "markdown",
   "id": "2eea039a",
   "metadata": {},
   "source": [
    "Ho -> la distribucion sigue una muestra normal\n",
    "\n",
    "H1 -> La distribucion no sigue una muestra normal"
   ]
  },
  {
   "cell_type": "code",
   "execution_count": 34,
   "id": "806c6693",
   "metadata": {},
   "outputs": [
    {
     "name": "stdout",
     "output_type": "stream",
     "text": [
      "Resultados de la submuestra 1:\n",
      "Estadístico: 0.2460415331404474, Valor p: 0.04379464338101191\n",
      "La submuestra 1 no sigue una distribución normal\n",
      "\n",
      "Resultados de la submuestra 2:\n",
      "Estadístico: 0.23809252465886277, Valor p: 0.05572704984817678\n",
      "La submuestra 2 sigue una distribución normal\n"
     ]
    }
   ],
   "source": [
    "from scipy import stats\n",
    "import numpy as np\n",
    "from sklearn.preprocessing import StandardScaler\n",
    "\n",
    "# conversion de los df filtrado a np.array para aprovechar sus caracteristicas\n",
    "submuestra1 = np.array(df_1['Anchura del cráneo'])\n",
    "submuestra2 = np.array(df_2['Anchura del cráneo'])\n",
    "\n",
    "# Asegurarse de que las submuestras sean arreglos de una sola columna\n",
    "submuestra1 = submuestra1.reshape(-1, 1)\n",
    "submuestra2 = submuestra2.reshape(-1, 1)\n",
    "\n",
    "# Inicializar standarscaler de scktlearn\n",
    "scaler1 = StandardScaler()\n",
    "scaler2 = StandardScaler()\n",
    "\n",
    "# Normalizar las muestras\n",
    "submuestra1 = scaler1.fit_transform(submuestra1)\n",
    "submuestra2 = scaler2.fit_transform(submuestra2)\n",
    "\n",
    "#llevar las submuestras a matriz unidmensional\n",
    "submuestra1=submuestra1.flatten()\n",
    "submuestra2=submuestra2.flatten()\n",
    "\n",
    "# Aplicar la prueba de Kolmogorov-Smirnov\n",
    "statistic1, pvalue1 = stats.kstest(submuestra1, 'norm')\n",
    "statistic2, pvalue2 = stats.kstest(submuestra2, 'norm')\n",
    "\n",
    "# Imprimir los resultados\n",
    "print(\"Resultados de la submuestra 1:\")\n",
    "print(f\"Estadístico: {statistic1}, Valor p: {pvalue1}\")\n",
    "if pvalue1 > 0.05:\n",
    "    print(\"La submuestra 1 sigue una distribución normal\")\n",
    "else:\n",
    "    print(\"La submuestra 1 no sigue una distribución normal\")\n",
    "\n",
    "print(\"\\nResultados de la submuestra 2:\")\n",
    "print(f\"Estadístico: {statistic2}, Valor p: {pvalue2}\")\n",
    "if pvalue2 > 0.05:\n",
    "    print(\"La submuestra 2 sigue una distribución normal\")\n",
    "else:\n",
    "    print(\"La submuestra 2 no sigue una distribución normal\")\n"
   ]
  },
  {
   "cell_type": "markdown",
   "id": "79f88d43",
   "metadata": {},
   "source": [
    "<font color=\"blue\">\n",
    "\n",
    "**COMENTARIOS DEL TEST KOLMOGROV-SMIRNOV**\n",
    "    \n",
    "MUESTRA 1:\n",
    "- La muestra 1 posee un estadístico de 0.2460 y según la tabla para KM-SV, una muestra de 30 valores y un alfa = 0.05, el valor del estadístico es 0.24170, por lo que  Dcalculado > Dtabla con lo que se rechaza la hipótesis nula a un intervalo de confianza de 95%. \n",
    "- También podemos determinar que el p-valor es 0.0437, lo que indica que hay evidencia significativa para rechazar la hipótesis nula de que la submuestra sigue una distribución normal. \n",
    "- En resumen, la submuestra 1 no sigue una distribución normal.\n",
    "\n",
    "MUESTRA 2:\n",
    "- La muestra 2 posee un estadístico de 0.2380 y según la tabla para KM-SV, una muestra de 30 valores y un alfa = 0.05, el valor del estadístico es 0.24170, por lo que  Dcalculado < Dtabla con lo que se acepta la hipótesis nula. A un intervalo de confianza de 95% no existe suficiente evidencia en contra para rechazar la Ho\n",
    "- También podemos determinar que el p-valor es 0.0557. Esto sugiere que no hay suficiente evidencia para rechazar la hipótesis nula de que la submuestra sigue una distribución normal a un nivel de significancia del 5%. \n",
    "- Por lo tanto, se podría asumir que la submuestra 2 sigue una distribución normal.\n",
    "\n",
    "</font>\n",
    "\n"
   ]
  },
  {
   "cell_type": "markdown",
   "id": "d2662361",
   "metadata": {},
   "source": [
    "<font color=\"red\">\n",
    "Ejercicio 2.\n",
    "    </font>"
   ]
  },
  {
   "cell_type": "markdown",
   "id": "6c87af1f",
   "metadata": {},
   "source": [
    "<font color=\"red\">\n",
    "a) Con los mismos datos del ejercicio anterior, obtener un intervalo de confianza (de nivel 0.9, de nivel 0.95 y de nivel 0.99) para la diferencia entre las medias de la anchura de la cabeza en ambos periodos históricos. Interpretar los resultados obtenidos y discutirlos en función del test de normalidad del ejercicio anterior. La interpretación debe ser rigurosa desde el punto de vista estadístico y también marcada por el story telling, es decir, comprensible desde el punto de vista de las variables respondiendo a la pregunta ¿en qué época la cabeza era más ancha?\n",
    "\n",
    "</font>"
   ]
  },
  {
   "cell_type": "markdown",
   "id": "937f5b4e",
   "metadata": {},
   "source": [
    "Se aborda el intervalo de confianza para con los 3 niveles de confianza. \n",
    "\n",
    "Se requiere:\n",
    "1. Saber si las muestras son independientes (sin embargo el ejercicio nos comenta que asumamos esta condición).\n",
    "2. Sabemos que las varianzas poblacionales son desconocidas.\n",
    "3. Demostrar si las varianzas de las poblaciones son iguales o diferentes.\n"
   ]
  },
  {
   "cell_type": "markdown",
   "id": "8dfb7f93",
   "metadata": {},
   "source": [
    "COMPROBACIÓN DE VARIANZAS POBLACIONALES:\n",
    "\n",
    "- H0: Las muestras poseen varianzas poblacionales iguales        S1 = S2 \n",
    "\n",
    "- H1: Las muestras poseen varianzas poblaciionales diferentes    S1 != S2\n",
    "\n",
    "Para probar si las varianzas poblacionales son iguales o diferences, tomaremos un intervalo de confianza del 90%. Cabe mencionar que esta prueba es de dos colas ya que estamos probando igualdad o diferencia. Dado que las muestras tienen 30 valores, los grados de libertad para ambos son 29 y alfa = 10%, pero al ser una preuba de dos colas tomaremos alfa/2 para obtener los valores criticos de F. siendo alfa = 5%"
   ]
  },
  {
   "cell_type": "code",
   "execution_count": 35,
   "id": "fef94cce",
   "metadata": {},
   "outputs": [],
   "source": [
    "from scipy.stats import f\n",
    "\n",
    "gl1= valores_1.loc[0][1] - 1  #cantidad de elementos de la muestra1 - 1\n",
    "gl2= valores_2.loc[0][1] - 1  #cantidad de elementos de  la muestra 2 -1\n",
    "alfa_medios = 0.05"
   ]
  },
  {
   "cell_type": "code",
   "execution_count": 36,
   "id": "798aa936",
   "metadata": {},
   "outputs": [],
   "source": [
    "valor_tabla_f_derecha = f.ppf(1-alfa_medios,gl1,gl2)   # Valor crítico por la derecha de la curva F"
   ]
  },
  {
   "cell_type": "code",
   "execution_count": 37,
   "id": "788cffee",
   "metadata": {},
   "outputs": [],
   "source": [
    "valor_tabla_f_izquierda = 1/valor_tabla_f_derecha     # Al tener el mismo número de GL la inversa es el valor de la izquierda"
   ]
  },
  {
   "cell_type": "code",
   "execution_count": 38,
   "id": "e178b801",
   "metadata": {},
   "outputs": [
    {
     "name": "stdout",
     "output_type": "stream",
     "text": [
      "la zona de aprobacion de la H0 es: 0.5373999648406917 <F< 1.8608114354760754\n"
     ]
    }
   ],
   "source": [
    "print(\"la zona de aprobacion de la H0 es:\",valor_tabla_f_izquierda,\"<F<\",valor_tabla_f_derecha)"
   ]
  },
  {
   "cell_type": "code",
   "execution_count": 39,
   "id": "02e41912",
   "metadata": {},
   "outputs": [
    {
     "data": {
      "text/plain": [
       "0.6606334841628961"
      ]
     },
     "execution_count": 39,
     "metadata": {},
     "output_type": "execute_result"
    }
   ],
   "source": [
    "# Se calcula el estadístico de F que es las división de las desviaciones estándar de las muestras al cuadrado\n",
    "Fisher = mt.pow (valores_1.loc[2][1],2)/mt.pow(valores_2.loc[2][1],2)\n",
    "Fisher"
   ]
  },
  {
   "cell_type": "code",
   "execution_count": 40,
   "id": "15eeace0",
   "metadata": {},
   "outputs": [
    {
     "data": {
      "image/png": "[encoded data removed]",
      "text/plain": [
       "<Figure size 640x480 with 1 Axes>"
      ]
     },
     "metadata": {},
     "output_type": "display_data"
    }
   ],
   "source": [
    "import numpy as np\n",
    "import matplotlib.pyplot as plt\n",
    "from scipy.stats import f\n",
    "\n",
    "# Definir el rango de valores de F\n",
    "f_values = np.linspace(0.01, 5, 1000)\n",
    "\n",
    "# Calcular la distribución F\n",
    "f_distribucion = f.pdf(f_values, gl1, gl2)\n",
    "\n",
    "# Graficar la distribución F\n",
    "plt.plot(f_values, f_distribucion, label='Distribución F')\n",
    "\n",
    "# Graficar los valores críticos y el valor observado\n",
    "plt.vlines(valor_tabla_f_izquierda, 0, f.pdf(valor_tabla_f_izquierda, gl1, gl2), colors='r', label='Valor Crítico Inferior')\n",
    "plt.vlines(valor_tabla_f_derecha, 0, f.pdf(valor_tabla_f_derecha, gl1, gl2), colors='r', label='Valor Crítico Superior')\n",
    "plt.vlines(Fisher, 0, f.pdf(Fisher, gl1, gl2), colors='g', label='Valor Observado')\n",
    "\n",
    "# Configurar la leyenda y etiquetas\n",
    "plt.legend()\n",
    "plt.xlabel('Valor F')\n",
    "plt.ylabel('Densidad de Probabilidad')\n",
    "plt.title('Distribución F con valores críticos y valor observado')\n",
    "\n",
    "# Mostrar la gráfica\n",
    "plt.show()\n"
   ]
  },
  {
   "cell_type": "markdown",
   "id": "bc0ae219",
   "metadata": {},
   "source": [
    "<font color=\"blue\">\n",
    "Observando la gráfica obtenida se puede afirmar que estando el valor F dentro del intervalo de aceptación, que es 0.5373 - 1.8308, con un nivel de significacia del 90%, no existe evidencia suficiente para rechazar la H0\n",
    "    </font>"
   ]
  },
  {
   "cell_type": "markdown",
   "id": "dcc3f410",
   "metadata": {},
   "source": [
    "Ahora, sabiendo que las muestras son independientes, las varianzas desconocias y además éstas son iguales, podemos calcular de lleno el intervalo de confianza para la diferencia de medias"
   ]
  },
  {
   "cell_type": "code",
   "execution_count": 41,
   "id": "b9f43356",
   "metadata": {},
   "outputs": [],
   "source": [
    "from scipy.stats import t\n",
    "\n",
    "diferencia_medias = valores_1.loc[1][1] - valores_2.loc[1][1]\n",
    "n1=valores_1.loc[0][1]\n",
    "n2=valores_2.loc[0][1]\n",
    "s1 = valores_1.loc[2][1]\n",
    "s2 = valores_2.loc[2][1]\n",
    "grados_libertad = n1+n2-2\n",
    "error_standar  = mt.sqrt((((n1*mt.pow(s1,2)+n2*mt.pow(s2,2))*((1/n1)+(1/n2)))/(grados_libertad)))\n",
    "#el error standar para la diferencia de medias, es el determinado ya que las varianzas poblacionales \n",
    "#son desconocidas pero iguales\n",
    "\n",
    "intervalo_90 = stats.t.interval(0.90,grados_libertad,loc=diferencia_medias,scale=error_standar)\n",
    "intervalo_95 = stats.t.interval(0.95,grados_libertad,loc=diferencia_medias,scale=error_standar)\n",
    "intervalo_99 = stats.t.interval(0.99,grados_libertad,loc=diferencia_medias,scale=error_standar)"
   ]
  },
  {
   "cell_type": "code",
   "execution_count": 42,
   "id": "6065a5ad",
   "metadata": {},
   "outputs": [
    {
     "name": "stdout",
     "output_type": "stream",
     "text": [
      "los intervalos de confianza para la diferencia de medias con un 90% de confianza es: (-1.3365370178425788, -0.5301296488240955)\n",
      "------------------------------------------------------------------------------------------------------------------------\n",
      "los intervalos de confianza para la diferencia de medias con un 95% de confianza es: (-1.4161777177709258, -0.4504889488957485)\n",
      "------------------------------------------------------------------------------------------------------------------------\n",
      "los intervalos de confianza para la diferencia de medias con un 99% de confianza es: (-1.5757582313054241, -0.2909084353612502)\n"
     ]
    }
   ],
   "source": [
    "print(\"los intervalos de confianza para la diferencia de medias con un 90% de confianza es:\" ,intervalo_90)\n",
    "print(\"-\"*120)\n",
    "print(\"los intervalos de confianza para la diferencia de medias con un 95% de confianza es:\" ,intervalo_95)\n",
    "print(\"-\"*120)\n",
    "print(\"los intervalos de confianza para la diferencia de medias con un 99% de confianza es:\" ,intervalo_99)"
   ]
  },
  {
   "cell_type": "markdown",
   "id": "6317a7dd",
   "metadata": {},
   "source": [
    "<font color=\"blue\">Como el valor 0 no está incluido en ninguno de los 3 niveles de confianza determinados (90%, 95% y 99%) se puede afirmar que la diferencia entre las medias es estadísticamente considerable y no puede atribuirse a aleatoridad. En otras palabras, los cráneos de ambas poblaciones son condiderablemente distintos y el cráneo del periodo tardío es mas ancho que el cráneo del periodo temprano. La conclusión final que se puede esgrimir de estos resultados es que **el cráneo se ha ido ensanchando con el paso del tiempo**.\n",
    "    </font>"
   ]
  },
  {
   "cell_type": "markdown",
   "id": "9589ba34",
   "metadata": {},
   "source": [
    "<span style=\"color:red;\">b) Utilizar el test t para contrastar la hipótesis de que ambas medias son iguales. Explicar qué condiciones se deben cumplir para poder aplicar ese contraste. Determinar si se cumplen. Admitiremos de forma natural la independencia entre ambas muestras, así que esa condición no hace falta comprobarla.</span>\n",
    "\n",
    "<span style=\"color:red;\">Observación: Quiero insistir en que debéis hacer el test t para la diferencia de medias incluso si las condiciones no se cumplieran. En ese caso, discutir la validez de los resultados obtenidos.</span>\n",
    "\n"
   ]
  },
  {
   "cell_type": "markdown",
   "id": "2c28ceb8",
   "metadata": {},
   "source": [
    "Para poder probar la diferencia de medias de dos poblaciones debemos considerar que se deben cumplir 3 condiciones:\n",
    "1. Normalidad de los datos (con la prueba de Kolmogrov-Smirnov se probó que las muestras siguen una distribución normal, aunque la de periodo temprano no cumple)\n",
    "2. Homogenidad de la varianza (se demostró en el ejericio anterior que las varianzas son homogéneas con prueba F)\n",
    "3. Independencia de las observaciones (el ejericio nos exige que esta condición ya se cumple)\n",
    "\n",
    "Aplicamos las pruebas de hipótesis para diferencia de medias (aunque no se cumplan todas las condiciones, ya que el enunciado así lo requiere)\n",
    "- H0: las medias de ambas muestras son iguales --------- M0 = M1     \n",
    "- H1: Las medias de ambas muestras son diferentes ------ M0 != M1\n",
    "    \n",
    "Como tenemos una prueba de hipótesis de comprobar si las medias son iguales o distintas, esta corresponde a una prueba de dos colas. Además consideraremos un intervalo de confianza del 95%, por lo que el alfa sera 0.025 (a cada lado de la curva). También tenemos los grados de libertad correspondintes a N1+N2-2     "
   ]
  },
  {
   "cell_type": "code",
   "execution_count": 43,
   "id": "3d88a679",
   "metadata": {},
   "outputs": [
    {
     "name": "stdout",
     "output_type": "stream",
     "text": [
      "la zona de aceptacion para la prueba es : -2.0017174830120927 , 2.0017174830120923\n"
     ]
    }
   ],
   "source": [
    "# Se calculan los valores críticos correspondeintes a la distribución T \n",
    "\n",
    "alfa = 0.05\n",
    "alfa_medios = alfa/2\n",
    "\n",
    "lim_sup = t.ppf(1-alfa_medios,grados_libertad)\n",
    "lim_inf = t.ppf(alfa_medios,grados_libertad)\n",
    "\n",
    "print(\"la zona de aceptacion para la prueba es :\",lim_inf,\",\",lim_sup)"
   ]
  },
  {
   "cell_type": "markdown",
   "id": "1bca0004",
   "metadata": {},
   "source": [
    "**Cálculo del valor T**\n",
    "\n",
    "- t = (Mmuestral1 - Mmuestral2) - (Mpobalcional1 - Mpoblacional2) / Error Standr Estimado\n",
    "\n",
    "- Estamos probando en la Ho que las MediasPoblacionales son iguales, así que la diferencia de las Medias en la\n",
    "fórmula anterior es 0 --> (Mpobalcional1 - Mpoblacional2) = 0 \n",
    "\n",
    "- Se obtiene el siguiente T: \n",
    "t = (Mmuestral1 - Mmuestral2) / Error Standr Estimado\n",
    "\n",
    "Con estos valores definidos, se calcula el Tobservado"
   ]
  },
  {
   "cell_type": "code",
   "execution_count": 44,
   "id": "d3187b54",
   "metadata": {},
   "outputs": [
    {
     "name": "stdout",
     "output_type": "stream",
     "text": [
      "el valor critico de T es : -3.869299739267822\n"
     ]
    }
   ],
   "source": [
    "# Cálculo del error estándar (este error es el mismo del ejercicio anterior)\n",
    "\n",
    "valor_critico_t = float(diferencia_medias) / error_standar\n",
    "\n",
    "print(\"el valor critico de T es :\", valor_critico_t)"
   ]
  },
  {
   "cell_type": "markdown",
   "id": "47d1ce3b",
   "metadata": {},
   "source": [
    "<font color=\"blue\">Como se puede observar, el valor crítico de T no se encunetra dentro del intervalo para aceptar la Ho, que es (-2.0017, 2.0017).\n",
    "Observamos el gráfico que determinan a continuación.</font>"
   ]
  },
  {
   "cell_type": "code",
   "execution_count": 45,
   "id": "a7be0bed",
   "metadata": {},
   "outputs": [
    {
     "data": {
      "image/png": "[encoded data removed]",
      "text/plain": [
       "<Figure size 640x480 with 1 Axes>"
      ]
     },
     "metadata": {},
     "output_type": "display_data"
    }
   ],
   "source": [
    "import numpy as np\n",
    "import matplotlib.pyplot as plt\n",
    "from scipy.stats import t  # Se importa 't' para la distribución t-Student\n",
    "\n",
    "# Definir el rango de valores de t\n",
    "t_values = np.linspace(-6, 6, 1000)\n",
    "\n",
    "# Calcular la distribución t\n",
    "t_distribucion = t.pdf(t_values, grados_libertad)\n",
    "\n",
    "# Graficar la distribución t\n",
    "plt.plot(t_values, t_distribucion, label='Distribución t')\n",
    "\n",
    "# Graficar el valor crítico y el valor t observado\n",
    "plt.vlines(lim_inf, 0, t.pdf(lim_inf, grados_libertad), colors='r', label='Valor Crítico 0.025')\n",
    "plt.vlines(lim_sup, 0, t.pdf(lim_sup, grados_libertad), colors='r', label='Valor Crítico 0.950')\n",
    "\n",
    "# Cambio en el nombre de la variable 't' que contiene el valor crítico de T\n",
    "plt.vlines(valor_critico_t, 0, t.pdf(valor_critico_t, grados_libertad), colors='g', label='Valor t Observado')\n",
    "\n",
    "# Configurar la leyenda y etiquetas\n",
    "plt.legend()\n",
    "plt.xlabel('Valor t')\n",
    "plt.ylabel('Densidad de Probabilidad')\n",
    "plt.title('Distribución t con valor crítico y valor t observado')\n",
    "\n",
    "plt.show()"
   ]
  },
  {
   "cell_type": "markdown",
   "id": "804cd9c6",
   "metadata": {},
   "source": [
    "<span style=\"color:blue;\">\n",
    "\n",
    "**RESULTADOS**\n",
    "\n",
    "- No se aprecia el \"Valor t Observado\" en el gráfico ya que la línea es muy corta y Python no la dibuja (valor -3.8693)\n",
    "- Como se puede apreciar en la gráfica, **el valor T crítico se encuentra en la zona de rechazo de la H0** por lo que podemos establecer que existe una diferencia significativa entre las medias de ambas poblaciones. Estas diferencias además no se deben a un factor de aleatoriedad, sino que estadísticamente podemos decir que ambas muestras son diferentes. \n",
    "- El valor t observado se encuentra a la izquierda, por lo tanto podemos afirmar que **el cráneo de la muestra del periodo tardío es más ancho que el cráneo del periodo temprano**\n",
    "\n",
    "</span>\n"
   ]
  }
 ],
 "metadata": {
  "kernelspec": {
   "display_name": "Python 3 (ipykernel)",
   "language": "python",
   "name": "python3"
  },
  "language_info": {
   "codemirror_mode": {
    "name": "ipython",
    "version": 3
   },
   "file_extension": ".py",
   "mimetype": "text/x-python",
   "name": "python",
   "nbconvert_exporter": "python",
   "pygments_lexer": "ipython3",
   "version": "3.11.5"
  }
 },
 "nbformat": 4,
 "nbformat_minor": 5
}
